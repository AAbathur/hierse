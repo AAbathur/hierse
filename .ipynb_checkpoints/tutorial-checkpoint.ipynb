{
 "cells": [
  {
   "cell_type": "markdown",
   "metadata": {},
   "source": [
    "Tutorial code showing how to perform zero-shot image tagging for individual images"
   ]
  },
  {
   "cell_type": "code",
   "execution_count": 1,
   "metadata": {
    "collapsed": false
   },
   "outputs": [],
   "source": [
    "from synset2vec import Synset2Vec\n",
    "from im2vec import Image2Vec\n",
    "from tagger import ZeroshotTagger\n",
    "from simpleknn.bigfile import BigFile\n",
    "from constant import ROOT_PATH as rootpath"
   ]
  },
  {
   "cell_type": "code",
   "execution_count": 2,
   "metadata": {
    "collapsed": false
   },
   "outputs": [
    {
     "name": "stderr",
     "output_type": "stream",
     "text": [
      "[21 Aug 15:40:57 - build_label_vec.py:line 30] /Users/xirong/VisualSearch/synset2vec/ilsvrc12_test1k/flickr4m,tagvec500,hierse2/feature.bin exists. quit\n",
      "[21 Aug 15:40:57 - build_label_vec.py:line 30] /Users/xirong/VisualSearch/synset2vec/ilsvrc12_test1k_2hop/flickr4m,tagvec500,hierse2/feature.bin exists. quit\n"
     ]
    }
   ],
   "source": [
    "%run -i build_label_vec.py ilsvrc12_test1k\n",
    "%run -i build_label_vec.py ilsvrc12_test1k_2hop"
   ]
  },
  {
   "cell_type": "code",
   "execution_count": 3,
   "metadata": {
    "collapsed": false
   },
   "outputs": [
    {
     "name": "stderr",
     "output_type": "stream",
     "text": [
      "[21 Aug 15:40:57 - bigfile.py:line 24] 1000x500 instances loaded from /Users/xirong/VisualSearch/synset2vec/ilsvrc12_test1k/flickr4m,tagvec500,hierse2\n",
      "[21 Aug 15:40:57 - im2vec.py:line 44] #active_labels=1000, embedding_size=500\n",
      "[21 Aug 15:40:57 - bigfile.py:line 24] 382298x500 instances loaded from /Users/xirong/VisualSearch/flickr4m/word2vec/tagvec500\n",
      "[21 Aug 15:40:57 - synset2vec.py:line 27] w2v(flickr4m): 382298 words, 500 dims\n",
      "[21 Aug 15:40:57 - bigfile.py:line 24] 1548x500 instances loaded from /Users/xirong/VisualSearch/synset2vec/ilsvrc12_test1k_2hop/flickr4m,tagvec500,hierse2\n",
      "[21 Aug 15:40:57 - tagger.py:line 43] #active_labels=1548, embedding_size=500\n"
     ]
    }
   ],
   "source": [
    "# load image / label embedding models\n",
    "i2v = Image2Vec()\n",
    "s2v = Synset2Vec()\n",
    "tagger = ZeroshotTagger()"
   ]
  },
  {
   "cell_type": "code",
   "execution_count": 4,
   "metadata": {
    "collapsed": false
   },
   "outputs": [
    {
     "name": "stderr",
     "output_type": "stream",
     "text": [
      "[21 Aug 15:40:57 - bigfile.py:line 24] 2000x1000 instances loaded from /Users/xirong/VisualSearch/imagenet2hop-random2k/FeatureData/dascaffeprob\n"
     ]
    }
   ],
   "source": [
    "# get prediction scores for the known label set Y0, which is currently ilsvrc12_test1k\n",
    "# In the following example we use socres computed in advance.\n",
    "# Alternatively,call a pre-trained CNN model to get the scores on the fly \n",
    "image_collection = 'imagenet2hop-random2k'\n",
    "test_image_id = 'n01495006_2522'\n",
    "pY0 = 'dascaffeprob'\n",
    "feat_dir = os.path.join(rootpath, image_collection, 'FeatureData', pY0)\n",
    "feat_file = BigFile(feat_dir)\n",
    "score_vec = feat_file.read_one(test_image_id) # \n",
    "assert (len(score_vec) == 1000) "
   ]
  },
  {
   "cell_type": "code",
   "execution_count": 5,
   "metadata": {
    "collapsed": false
   },
   "outputs": [
    {
     "name": "stdout",
     "output_type": "stream",
     "text": [
      "[('n01482330', 'shark', 0.95676452140690293), ('n01488918', 'requiem shark', 0.95037136849784298), ('n01495006', 'shovelhead, bonnethead, bonnet shark, Sphyrna tiburo', 0.9460143660060516), ('n01483522', 'mackerel shark', 0.9248807358373593), ('n01494882', 'smalleye hammerhead, Sphyrna tudes', 0.90178226535080397)]\n"
     ]
    }
   ],
   "source": [
    "# perform zero-shot image tagging\n",
    "img_embedding_vec = i2v.embedding(score_vec)\n",
    "res = tagger.predict(img_embedding_vec, topk=5)\n",
    "print ([(label, s2v.explain(label), score) for (label,score) in res])"
   ]
  }
 ],
 "metadata": {
  "kernelspec": {
   "display_name": "Python 2",
   "language": "python",
   "name": "python2"
  },
  "language_info": {
   "codemirror_mode": {
    "name": "ipython",
    "version": 2
   },
   "file_extension": ".py",
   "mimetype": "text/x-python",
   "name": "python",
   "nbconvert_exporter": "python",
   "pygments_lexer": "ipython2",
   "version": "2.7.13"
  }
 },
 "nbformat": 4,
 "nbformat_minor": 2
}
